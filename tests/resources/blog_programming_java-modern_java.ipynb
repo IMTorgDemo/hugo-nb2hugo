{
 "cells": [
  {
   "cell_type": "markdown",
   "metadata": {},
   "source": [
    "# A Data Scientist's Guide to Modern Java(8+) and the JVM\n",
    "Date: 2019-06-26  \n",
    "Author: Jason Beach  \n",
    "Categories: Java, ComputerScience  \n",
    "Tags: jvm, tag2, tag3  \n",
    "<!--eofm-->"
   ]
  },
  {
   "cell_type": "markdown",
   "metadata": {},
   "source": [
    "Most data scientists avoid the Java Virtual Machine (JVM) like the plague.  The features that make developers and data engineers so productive as a team, such as access modifiers and powerful IDEs, feel slow, old, and cumbersome to individuals interacting with data and prototyping new algorithms.  However, the JVM and its supporting system matured to an indominatble force since its inception.  It is ubiquitous in the most popular open-source projects; espectially in _Big Data_ and distributed systems, such as Hadoop and Kafka.  The only competitors to Java in this domain are supporting languages that compile to the JVM, such as Scala, Groovy, and Kotlin.  Because of these factors the JVM culture sets precedence in a manner similar to Linux.  \n",
    "\n",
    "Data scientists need to understand the perspective of other engineers and the tools they use in order to progress in their careers, and knowing Java is the backbone to this.  Another advantage to knowing java is that it exposes users to many fundamental computer science concepts.  This guide will provide the basics for getting familiar with Java, fast, as well as displaying different programming abstractions, such as testing, team integration and design patterns, not readily available to most consulting data scientists.  It will also provide support for a multitude of JVM languages that, while not necessary to know Java, will make life much easier."
   ]
  },
  {
   "cell_type": "markdown",
   "metadata": {},
   "source": [
    "## Culture and Precendence\n",
    "\n",
    "Because Java is such an old and popular language it has quite alot of culture and history (some might say _baggage_) built around it.  This culture also creates precedence which might not be enforced by a compiler, but is so sacrosanct that anyone breaking the rules will quickly become a target.  Most of this is created around how Java found its niche: as a portable language for large organizations of development teams to deliver code.  For individual programmers much of Java functionality will not seem necessary, and even tiresome.  It grew-up before the age serverless technology or microservices.  But all of that changes once it is used by teams who have to work together, and, in turn, deliver components for a large, monolith system.\n",
    "\n",
    "Some general knowledge and basic conventions that help beginners:\n",
    "\n",
    "* modern Java begins with version Java 1.8, but is called Java8\n",
    "* the Java platform includes packages of functions, such as `java`, `javax`, `org.omg`; and the most fundamental: `java.lang`\n",
    "* package namespaces are the url of the company, backwards, such as `com.firmname.classify.functions`\n",
    "* directory structures are implemented from the package name, so there can be alot of empty folders depending on how many suffixes you used\n",
    "* the directory path is for `src` the other is for `test`\n",
    "* each Java class must be in an individual file, so you may have to have many files open in order to find something\n",
    "* dependency management is performed by maven (traditional xml-based) or gradle (groovy-based)\n",
    "\n",
    "Naming conventions:\n",
    "\n",
    "* Class and Inteface names should be nouns, in mixed case, such as `class ImageSprite`\n",
    "* Methods should be verbs and Variables should be nouns, both in mixed camel case, such as `getBackground()` and `float myWidth`, respectivly\n",
    "* constants should be all upper-case, such as `static final int MIN_WIDTH = 4`"
   ]
  },
  {
   "cell_type": "markdown",
   "metadata": {},
   "source": [
    "## Basics"
   ]
  },
  {
   "cell_type": "markdown",
   "metadata": {},
   "source": [
    "### Configuation and envrironment\n",
    "\n",
    "Proper development in Java demands an Integrated Development Environment IDE.  JetBrain's [Intellij IDEA](https://www.jetbrains.com/idea/) is one of the best.  However, some time must be taken to become acquainted with it.\n",
    "\n",
    "Gotchas:\n",
    "\n",
    "* Intellij creates a project folder within its own directory for each project you create.  You must delete a project in both places.\n",
    "* Always Import a project, instead of just Opening one.\n",
    "* ???\n",
    "\n",
    "To get started with Intellij, Import a new project.  Then move to the `tests` directory, open a file, and run tests by clicking on the green arrows that appear on the left side.\n",
    "\n",
    "This tutorial will be created using Two Sigma's [BeakerX](http://beakerx.com/) JVM kernel for the Jupyter notebook.  So we will focus on package-level code snippets before looking at a larger project.  BeakerX allows you to reference work among cells by creating assigning the cell to a `package` just as you do within a project.\n",
    "\n",
    "The following code cell creates a class `BeakerTest`, the class is then instantated, in the next cell."
   ]
  },
  {
   "cell_type": "code",
   "execution_count": 1,
   "metadata": {},
   "outputs": [
    {
     "data": {
      "text/plain": [
       "test.beaker.BeakerTest"
      ]
     },
     "execution_count": 1,
     "metadata": {},
     "output_type": "execute_result"
    }
   ],
   "source": [
    "package test.beaker;\n",
    "\n",
    "import java.util.Date;\n",
    "import java.text.SimpleDateFormat;\n",
    "\n",
    "public class BeakerTest {\n",
    "  private Date _date;\n",
    "  private SimpleDateFormat sdf = new SimpleDateFormat(\"yyyy-MM-dd'T'HH:mmZ\");\n",
    "  \n",
    "  public BeakerTest() {\n",
    "    _date = new Date();\n",
    "  }\n",
    "\n",
    "  public String getDateTxt() {\n",
    "    return \"Today:\" + sdf.format(_date);\n",
    "  }\n",
    "\n",
    "  public String getDateUpperCaseTxt() {\n",
    "    return getDateTxt().toUpperCase();\n",
    "  }\n",
    "\n",
    "}"
   ]
  },
  {
   "cell_type": "code",
   "execution_count": 2,
   "metadata": {},
   "outputs": [
    {
     "data": {
      "text/plain": [
       "Today:2019-06-27T13:20+0000"
      ]
     },
     "execution_count": 2,
     "metadata": {},
     "output_type": "execute_result"
    }
   ],
   "source": [
    "package test.beaker;\n",
    "\n",
    "BeakerTest bt = new BeakerTest();\n",
    "return bt.getDateTxt();"
   ]
  },
  {
   "cell_type": "markdown",
   "metadata": {},
   "source": [
    "Because BeakerX is designed for data science, graphs can be created by importing their `Plot` package."
   ]
  },
  {
   "cell_type": "code",
   "execution_count": 3,
   "metadata": {},
   "outputs": [
    {
     "data": {
      "application/vnd.jupyter.widget-view+json": {
       "model_id": "49d34049-df2b-4296-bcf7-ca19c7df72ab",
       "version_major": 2,
       "version_minor": 0
      },
      "method": "display_data"
     },
     "metadata": {},
     "output_type": "display_data"
    }
   ],
   "source": [
    "import java.util.List;\n",
    "import java.util.ArrayList;\n",
    "import com.twosigma.beakerx.chart.xychart.Plot;\n",
    "import com.twosigma.beakerx.chart.xychart.plotitem.*;\n",
    "import com.twosigma.beakerx.chart.Color;\n",
    "\n",
    "Plot p = new Plot();\n",
    "\n",
    "p.setTitle(\"this is a Java plot\");\n",
    "\n",
    "Bars b = new Bars();\n",
    "\n",
    "List<Number> yList = new ArrayList<Number>();\n",
    "yList.add(2);\n",
    "yList.add(5);\n",
    "yList.add(4);\n",
    "yList.add(8);\n",
    "\n",
    "b.setY(yList);\n",
    "b.setColor(Color.blue);\n",
    "b.setWidth(0.5);\n",
    "\n",
    "p.add(b);\n",
    "  \n",
    "return p;"
   ]
  },
  {
   "cell_type": "code",
   "execution_count": 4,
   "metadata": {},
   "outputs": [
    {
     "data": {
      "text/plain": [
       "test.beaker.DateGetter"
      ]
     },
     "execution_count": 4,
     "metadata": {},
     "output_type": "execute_result"
    }
   ],
   "source": [
    "package test.beaker;\n",
    "interface DateGetter {\n",
    "   public String getDateTxt();\n",
    "}"
   ]
  },
  {
   "cell_type": "code",
   "execution_count": 5,
   "metadata": {},
   "outputs": [
    {
     "data": {
      "text/plain": [
       "test.beaker.DG2"
      ]
     },
     "execution_count": 5,
     "metadata": {},
     "output_type": "execute_result"
    }
   ],
   "source": [
    "package test.beaker;\n",
    "public class DG2 extends BeakerTest implements DateGetter {\n",
    "}"
   ]
  },
  {
   "cell_type": "markdown",
   "metadata": {},
   "source": [
    "### Core packages\n",
    "\n",
    "The following are core packages that do not require dependency tracking, such as maven.\n",
    "\n",
    "* java.lang — basic language functionality and fundamental types\n",
    "* java.util — collection data structure classes\n",
    "* java.io \t— file operations\n",
    "* java.math — multiprecision arithmetics\n",
    "* java.nio \t— the Non-blocking I/O framework for Java\n",
    "* java.net \t— networking operations, sockets, DNS lookups, ...\n",
    "* java.security — key generation, encryption and decryption\n",
    "* java.sql \t— Java Database Connectivity (JDBC) to access databases\n",
    "* java.awt \t— basic hierarchy of packages for native GUI components\n",
    "* java.text — Provides classes and interfaces for handling text, dates, numbers, and messages in a manner independent of natural languages.\n",
    "* java.rmi \t— Provides the RMI package.\n",
    "* java.time — The main API for dates, times, instants, and durations.\n",
    "* java.beans — The java.beans package contains classes and interfaces related to JavaBeans components.\n",
    "* java.Applet — This package provides classes and methods to create and communicate with the applets.\n",
    "\n",
    "The java.lang package is available without the use of an import statement. "
   ]
  },
  {
   "cell_type": "markdown",
   "metadata": {},
   "source": [
    "### Popular libraries\n",
    "\n",
    "* standard\n",
    "  - lang\n",
    "  - util\n",
    "  - io, nio\n",
    "  - math\n",
    "  - net\n",
    "\n",
    "* productivity\n",
    "  - apache commons\n",
    "    - math\n",
    "    - cli\n",
    "    - csv\n",
    "    - io\n",
    "  - guava, google commons\n",
    "  - google-gson\n",
    "\n",
    "* testing \n",
    "  - junit\n",
    "  - mockito\n",
    "\n",
    "* logging\n",
    "  - log4j\n",
    "  - slf4j\n",
    "\n",
    "* application development\n",
    "  - http\n",
    "  - h2\n",
    "  - jhipster\n",
    "  - spring\n",
    "  - hibernate orm"
   ]
  },
  {
   "cell_type": "markdown",
   "metadata": {},
   "source": [
    "### Syntax"
   ]
  },
  {
   "cell_type": "markdown",
   "metadata": {},
   "source": [
    "Basic operations"
   ]
  },
  {
   "cell_type": "code",
   "execution_count": 6,
   "metadata": {},
   "outputs": [
    {
     "name": "stdout",
     "output_type": "stream",
     "text": [
      "6.8\n",
      "Hello, World\n"
     ]
    },
    {
     "data": {
      "text/plain": [
       "null"
      ]
     },
     "execution_count": 6,
     "metadata": {},
     "output_type": "execute_result"
    }
   ],
   "source": [
    "double result = 2.3 + 4.5;\n",
    "System.out.println(result);\n",
    "String result1 = \"Hello, \" + \"World\";\n",
    "System.out.println(result1);"
   ]
  },
  {
   "cell_type": "markdown",
   "metadata": {},
   "source": [
    "Basic arrays"
   ]
  },
  {
   "cell_type": "code",
   "execution_count": 7,
   "metadata": {},
   "outputs": [
    {
     "name": "stdout",
     "output_type": "stream",
     "text": [
      "2\n",
      "3\n"
     ]
    },
    {
     "data": {
      "text/plain": [
       "null"
      ]
     },
     "execution_count": 7,
     "metadata": {},
     "output_type": "execute_result"
    }
   ],
   "source": [
    "int[] nums = {2, 5, 4, 9};\n",
    "System.out.println(nums[0]);\n",
    "String[] strings = {\"alsdj\", \"asldfj\", \"owiure\"};\n",
    "System.out.println(strings.length);"
   ]
  },
  {
   "cell_type": "markdown",
   "metadata": {},
   "source": [
    "Typical main within class"
   ]
  },
  {
   "cell_type": "code",
   "execution_count": 8,
   "metadata": {},
   "outputs": [
    {
     "data": {
      "text/plain": [
       "com.twosigma.beaker.javash.bkr9f024aeb.Programm"
      ]
     },
     "execution_count": 8,
     "metadata": {},
     "output_type": "execute_result"
    }
   ],
   "source": [
    "class Programm {\n",
    "  public static void main(String[] args){\n",
    "    Programm programm = new Programm();\n",
    "    programm.start();\n",
    "  }\n",
    "  public void start(){\n",
    "    String[] test = {\"This\", \"is\", \"a\", \"test\"};\n",
    "    for(String t:test){\n",
    "        System.out.println(t);\n",
    "    }\n",
    "  }\n",
    "}"
   ]
  },
  {
   "cell_type": "markdown",
   "metadata": {},
   "source": [
    "Example using strings and conditionals"
   ]
  },
  {
   "cell_type": "code",
   "execution_count": 9,
   "metadata": {},
   "outputs": [
    {
     "data": {
      "text/plain": [
       "test.beaker.Input1"
      ]
     },
     "execution_count": 9,
     "metadata": {},
     "output_type": "execute_result"
    }
   ],
   "source": [
    "package test.beaker;\n",
    "\n",
    "import java.lang.String;\n",
    "\n",
    "\n",
    "public class Input1 {\n",
    "    \n",
    "  public String mIfElse(String[] args) {\n",
    "      String testr;\n",
    "    if(args.length > 3){\n",
    "      String sArgs =  String.join(\",\", args);\n",
    "      testr =  \"Your argument is: \" + sArgs;\n",
    "        for(String arg: args){\n",
    "            System.out.println(arg);\n",
    "        }\n",
    "    } else {\n",
    "      testr = \"Not many arguments\";\n",
    "        for(int i=0; i<args.length; i++){\n",
    "            System.out.println(args[i]);\n",
    "        }\n",
    "    }\n",
    "      return testr;\n",
    "  }\n",
    "}"
   ]
  },
  {
   "cell_type": "code",
   "execution_count": 10,
   "metadata": {},
   "outputs": [
    {
     "name": "stdout",
     "output_type": "stream",
     "text": [
      "This\n",
      "is\n",
      "a\n",
      "test\n",
      "Your argument is: This,is,a,test\n",
      "a\n",
      "test\n",
      "Not many arguments\n"
     ]
    },
    {
     "data": {
      "text/plain": [
       "null"
      ]
     },
     "execution_count": 10,
     "metadata": {},
     "output_type": "execute_result"
    }
   ],
   "source": [
    "package test.beaker;\n",
    "\n",
    "Input1 x = new Input1();\n",
    "String[] test = {\"This\", \"is\", \"a\", \"test\"}; \n",
    "System.out.println(x.mIfElse( test ));\n",
    "\n",
    "String[] y = {\"a\",\"test\"};\n",
    "System.out.println( x.mIfElse(y) );"
   ]
  },
  {
   "cell_type": "markdown",
   "metadata": {},
   "source": [
    "Array actions"
   ]
  },
  {
   "cell_type": "code",
   "execution_count": 11,
   "metadata": {},
   "outputs": [
    {
     "data": {
      "text/plain": [
       "test.beaker.ArraySum"
      ]
     },
     "execution_count": 11,
     "metadata": {},
     "output_type": "execute_result"
    }
   ],
   "source": [
    "package test.beaker;\n",
    "\n",
    "import java.lang.String;\n",
    "\n",
    "\n",
    "public class ArraySum {\n",
    "    public void sum() {\n",
    "        double[] numbers = { 1.1, 2.2, 3.3 };\n",
    "        System.out.println(\"[v1] Sum1 of {1.1,2.2,3.3}=\" + arraySum1(numbers));\n",
    "        System.out.println(\"[v2] Sum2 of {1.1,2.2,3.3}=\" + arraySum2(numbers));\n",
    "        System.out.println(\"[v3] Sum3 of {1.1,2.2,3.3}=\" + arraySum3(numbers));\n",
    "    }\n",
    "\n",
    "    public static double arraySum1(double[] nums) {\n",
    "        double sum = 0;\n",
    "        for(double num: nums) {\n",
    "            sum = sum + num;    // Or sum += num\n",
    "            }\n",
    "        return(sum);\n",
    "    }\n",
    "    \n",
    "    public static double arraySum2(double[] nums) {\n",
    "        double sum = 0;\n",
    "        for(int i=0; i<nums.length; i++) {\n",
    "            sum = sum + nums[i]; \n",
    "        }\n",
    "        return(sum);\n",
    "    }\n",
    "    public static double arraySum3(double[] nums) {\n",
    "        double sum = 0;\n",
    "        int i=0;\n",
    "        while(i<nums.length) {\n",
    "            sum = sum + nums[i]; \n",
    "            i++;            // Or i = i + 1, or i += 1\n",
    "        }\n",
    "        return(sum);\n",
    "    }\n",
    "}"
   ]
  },
  {
   "cell_type": "code",
   "execution_count": 12,
   "metadata": {},
   "outputs": [
    {
     "name": "stdout",
     "output_type": "stream",
     "text": [
      "[v1] Sum1 of {1.1,2.2,3.3}=6.6\n",
      "[v2] Sum2 of {1.1,2.2,3.3}=6.6\n",
      "[v3] Sum3 of {1.1,2.2,3.3}=6.6\n"
     ]
    },
    {
     "data": {
      "text/plain": [
       "null"
      ]
     },
     "execution_count": 12,
     "metadata": {},
     "output_type": "execute_result"
    }
   ],
   "source": [
    "package test.beaker;\n",
    "\n",
    "ArraySum x = new ArraySum();\n",
    "x.sum();"
   ]
  },
  {
   "cell_type": "markdown",
   "metadata": {},
   "source": [
    "Declare and allocate arrays"
   ]
  },
  {
   "cell_type": "code",
   "execution_count": 13,
   "metadata": {},
   "outputs": [
    {
     "data": {
      "text/plain": [
       "test.beaker.Allocate"
      ]
     },
     "execution_count": 13,
     "metadata": {},
     "output_type": "execute_result"
    }
   ],
   "source": [
    "package test.beaker;\n",
    "\n",
    "public class Allocate{\n",
    "    \n",
    "    public static void run(){\n",
    "        // one-step\n",
    "        int[] val1 = {1,2,3};\n",
    "        // two-step\n",
    "        int[] val2 = new int[3];\n",
    "        val2[0] = 1;\n",
    "        val2[1] = 2;\n",
    "        val2[2] = 3;\n",
    "        \n",
    "        System.out.println(val1[0]);\n",
    "        System.out.println(val2[0]);\n",
    "    }\n",
    "}"
   ]
  },
  {
   "cell_type": "code",
   "execution_count": 14,
   "metadata": {},
   "outputs": [
    {
     "name": "stdout",
     "output_type": "stream",
     "text": [
      "1\n",
      "1\n"
     ]
    },
    {
     "data": {
      "text/plain": [
       "null"
      ]
     },
     "execution_count": 14,
     "metadata": {},
     "output_type": "execute_result"
    }
   ],
   "source": [
    "package test.beaker;\n",
    "Allocate x = new Allocate();\n",
    "x.run();"
   ]
  },
  {
   "cell_type": "markdown",
   "metadata": {},
   "source": [
    "Typical class"
   ]
  },
  {
   "cell_type": "code",
   "execution_count": 15,
   "metadata": {},
   "outputs": [
    {
     "data": {
      "text/plain": [
       "test.beaker.Circle"
      ]
     },
     "execution_count": 15,
     "metadata": {},
     "output_type": "execute_result"
    }
   ],
   "source": [
    "package test.beaker;\n",
    "\n",
    "public class Circle {\n",
    "  private double radius;\n",
    "\n",
    "  public Circle(double radius) {\n",
    "    this.radius = radius;\n",
    "  }\n",
    "\n",
    "  public double getRadius() {\n",
    "    return(radius);\n",
    "  }\n",
    "\n",
    "  public void setRadius(double radius) {\n",
    "    this.radius = radius;\n",
    "  }\n",
    "\n",
    "  public double getArea() {\n",
    "    return(Math.PI * radius * radius);\n",
    "  }\n",
    "}"
   ]
  },
  {
   "cell_type": "markdown",
   "metadata": {},
   "source": [
    "Allocating arrays"
   ]
  },
  {
   "cell_type": "code",
   "execution_count": 16,
   "metadata": {},
   "outputs": [
    {
     "data": {
      "text/plain": [
       "test.beaker.CircleArray"
      ]
     },
     "execution_count": 16,
     "metadata": {},
     "output_type": "execute_result"
    }
   ],
   "source": [
    "package test.beaker;\n",
    "\n",
    "public class CircleArray {\n",
    "  public static void main(String[] args) {\n",
    "    // Do something with arrays\n",
    "  }\n",
    "  \n",
    "  /** Builds an array of Circles and returns the array. After allocating space for the Circles, \n",
    "   *  it loops down, builds a Circle, and puts it into the appropriate place in the array.\n",
    "   *  This is the correct approach. \n",
    "   */\n",
    "  public static Circle[] makeCircles1(int numCircles) {\n",
    "    Circle[] circles = new Circle[numCircles];      // Allocate space\n",
    "    for(int i=0; i<circles.length; i++) {\n",
    "      circles[i] = new Circle(Math.random() * 10);  // Put circles in the array\n",
    "    }\n",
    "    return(circles);\n",
    "  }\n",
    "  \n",
    "  /** Attempts to build an array of Circles. Crashes with NullPointerException since after\n",
    "   *  first line there are no Circle objects, just null pointers. So, trying to call setRadius\n",
    "   *  on null crashes. \n",
    "   */\n",
    "  public static Circle[] makeCircles2(int numCircles) {\n",
    "    Circle[] circles = new Circle[numCircles];\n",
    "    for(int i=0; i<circles.length; i++) {\n",
    "      circles[i].setRadius(Math.random() * 10); // Crashes with NullPointerException\n",
    "    }\n",
    "    return(circles);\n",
    "  }\n",
    "  \n",
    "  /** Attempts to build an array of Circles. Fails because it never puts any Circles\n",
    "   *  into the array. To put something into an array, you must have the index.\n",
    "   *  \n",
    "   *  The funny @SuppressWarnings entry below is something we have not yet\n",
    "   *  covered. It just tells Eclipse not to warn that the variable c in the loop\n",
    "   *  below is never used, since I already know that the code is wrong. It is a bad habit\n",
    "   *  to leave code in your projects that has warnings, because then you get in the habit\n",
    "   *  of ignoring the warnings, and the vast majority of the warnings are useful.\n",
    "   *  If you are deliberately doing something that will result in a warning from Eclipse, \n",
    "   *  suppress the warnings using \n",
    "   *  http://help.eclipse.org/mars/index.jsp?topic=%2Forg.eclipse.jdt.doc.user%2Ftasks%2Ftask-suppress_warnings.htm\n",
    "   *  and, preferably document why you are doing things a knowingly bad way.\n",
    "   */\n",
    "  @SuppressWarnings(\"unused\")\n",
    "  public static Circle[] makeCircles3(int numCircles) {\n",
    "    Circle[] circles = new Circle[numCircles];\n",
    "    for(Circle c: circles) {\n",
    "      c = new Circle(Math.random() * 10);; // Fails to store c in array\n",
    "    }\n",
    "    return(circles); // Array still contains only null pointers\n",
    "  }\n",
    "}"
   ]
  },
  {
   "cell_type": "code",
   "execution_count": 17,
   "metadata": {},
   "outputs": [
    {
     "name": "stdout",
     "output_type": "stream",
     "text": [
      "3.716013423654272\n"
     ]
    },
    {
     "data": {
      "text/plain": [
       "null"
      ]
     },
     "execution_count": 17,
     "metadata": {},
     "output_type": "execute_result"
    }
   ],
   "source": [
    "package test.beaker;\n",
    "\n",
    "CircleArray x = new CircleArray();\n",
    "Circle[] y = x.makeCircles1(3);\n",
    "System.out.println(y[0].getRadius() );"
   ]
  },
  {
   "cell_type": "markdown",
   "metadata": {},
   "source": [
    "Static methods (math operations) these are essentially global functions"
   ]
  },
  {
   "cell_type": "code",
   "execution_count": 18,
   "metadata": {},
   "outputs": [
    {
     "name": "stdout",
     "output_type": "stream",
     "text": [
      "0.03994823989553764\n",
      "8.0\n",
      "9.974182454814718\n",
      "2.302585092994046\n"
     ]
    },
    {
     "data": {
      "text/plain": [
       "null"
      ]
     },
     "execution_count": 18,
     "metadata": {},
     "output_type": "execute_result"
    }
   ],
   "source": [
    "double rand = Math.random();\n",
    "System.out.println(rand);\n",
    "System.out.println(Math.pow(2,3));\n",
    "\n",
    "System.out.println(Math.exp(2.30));\n",
    "System.out.println(Math.log(10));"
   ]
  },
  {
   "cell_type": "markdown",
   "metadata": {},
   "source": [
    "Use of static import"
   ]
  },
  {
   "cell_type": "code",
   "execution_count": null,
   "metadata": {},
   "outputs": [],
   "source": [
    "import static java.lang.Math.*;\n",
    "...\n",
    "double d1 = cos(...);   // Instead of Math.cos(...)\n",
    "double d2 = sin(...);   // Instead of Math.sin(...)\n",
    "double d3 = random(); // Instead of Math.random()"
   ]
  },
  {
   "cell_type": "markdown",
   "metadata": {},
   "source": [
    "### Keywords"
   ]
  },
  {
   "cell_type": "markdown",
   "metadata": {},
   "source": [
    "The following is a table of all keywords.  Some noteworthy points regarding Java keywords:\n",
    "\n",
    "* `const` and `goto` are resevered words but not used\n",
    "* `true`, `false` and `null` are literals, not keywords\n",
    "* since Java 8, the `default` keyword is also used to declare default methods in interfaces\n",
    "* since Java 10, the word `var` is used to declare local variables (local variables type inference). For backward compatibility, you can still use `var` as variable names. So `var` is a reserved word, not keyword\n",
    "* all keywords are in lower-case\n",
    "* all keywords are reserved words but all reserved words are not keywords. Specifically, Java has two reserved words (goto and const) which are not keywords\n",
    "  - Reserved words are those that cannot be used as identifiers (class names, method names, varaible names etc).  For example, `class`, `public`, `int`, `etc` are reserved words\n",
    "  - Keywords are those words which convey some special meaning to the compiler. For example, the kewyord `break` indicates some form of branching, `class` is used to specify  a class definition\n",
    "\n",
    "![all keywords](images/java-all_keywords.jpg)"
   ]
  },
  {
   "cell_type": "markdown",
   "metadata": {},
   "source": [
    "__Access modifiers:__ private, protected, public\n",
    "    \n",
    "__Flow control:__ break, case, continue, default, do, else, for, if, instanceof, return, switch, while\n",
    "\n",
    "__Package control:__ import, package\n",
    "\n",
    "__Primitive types:__ boolean, byte, char, double, float, int, long, short\n",
    "\n",
    "__Error handling:__ assert, catch, finally, throw, throws, try\n",
    "\n",
    "__Enumeration:__ enum\n",
    "    \n",
    "__Others:__  super, this, void\n",
    "\n",
    "__Unused (reserved):__ const, goto \n",
    "\n",
    "__Class, method, variable modifiers:__\n",
    "\n",
    "abstract, class, default, extends, final, \n",
    "\n",
    "implements, interface, native, new, \n",
    "\n",
    "static, strictfp, synchronized, transient, \n",
    "\n",
    "var, volatile"
   ]
  },
  {
   "cell_type": "markdown",
   "metadata": {},
   "source": [
    "### Annotations\n",
    "\n",
    "* Standard\n",
    "  - @Override\n",
    "  - @Deprecated\n",
    "  - @SuppressWarnings\n",
    "  \n",
    "* Spring\n",
    "  - ???\n",
    "  - ???"
   ]
  },
  {
   "cell_type": "markdown",
   "metadata": {},
   "source": [
    "### Generics\n",
    "\n",
    "Intermediate Java developers should also to be able to define classes or methods that support generics.\n",
    "\n",
    "__Using `<TypeVariable>`__\n",
    "    \n",
    "* If you put variables in angle brackets in the class or method definition, it tells Java that uses of those variables refer to types, not to values\n",
    "* It is conventional to use short names in upper case, such as T, R (input type, result type) or T1, T2 (type1, type2), or E (element type)\n",
    "\n",
    "\n",
    "__Using Generic Types in Existing Classes__\n",
    "\n",
    "Find a data structure that accepts Object(s)\n",
    "\n",
    "* ArrayList, LinkedList, HashMap, HashSet, Stack\n",
    "\n",
    "\n",
    "Declare the data structure with the type(s) in angle brackets \n",
    "immediately after type name\n",
    "\n",
    "* `List<String> names = new ArrayList<>();`\n",
    "* `Map<String,Person> employees = new HashMap<>();`\n",
    "\n",
    "\n",
    "Insert objects of the appropriate type\n",
    "\n",
    "* `names.add(\"Some String\");`\n",
    "* `employees.put(person.getEmployeeId(), person);`\n",
    "\n",
    "\n",
    "No typecast required on removal\n",
    "\n",
    "* `String firstName = names.get(0);`\n",
    "* `Person p1 = employees.get(\"a1234\");`\n",
    "\n",
    "\n",
    "----------------------------------------------------------\n",
    "`<>` diamond operator \n",
    "\n",
    "Autoboxing\n",
    "\n",
    "* So you cannot actually store int, double, and other primitives. You cannot declare the List to take primitives (e.g., `List<int>` is illegal)\n",
    "* These data structures can only store wrapper types (Integer, Double, etc.)"
   ]
  },
  {
   "cell_type": "markdown",
   "metadata": {},
   "source": [
    "![BigO for List](images/tbl_Java_BigO_List.png)"
   ]
  },
  {
   "cell_type": "code",
   "execution_count": 38,
   "metadata": {},
   "outputs": [
    {
     "data": {
      "text/plain": [
       "com.twosigma.beaker.javash.bkr9f024aeb.RandomList"
      ]
     },
     "execution_count": 38,
     "metadata": {},
     "output_type": "execute_result"
    }
   ],
   "source": [
    "import java.util.*;\n",
    "\n",
    "public class RandomList {\n",
    "    public static void main(String[] args) {\n",
    "        List<String> entries = new ArrayList<>();\n",
    "        double d;\n",
    "        while((d = Math.random()) > 0.1) {\n",
    "            entries.add(\"Value: \" + d);\n",
    "        }\n",
    "        for(String entry: entries) {System.out.println(entry);}\n",
    "    }\n",
    "}"
   ]
  },
  {
   "cell_type": "code",
   "execution_count": null,
   "metadata": {},
   "outputs": [],
   "source": [
    "/*\n",
    "This says that the best method takes a List of T’s and returns a T.\n",
    "The '<T>' at the beginning means T is not a real type, but a type \n",
    "that Java will figure out from the method call\n",
    "*/\n",
    "    \n",
    "`public static <T> T methodname(List<T> entries, ...) { ... }`"
   ]
  },
  {
   "cell_type": "code",
   "execution_count": 40,
   "metadata": {},
   "outputs": [
    {
     "data": {
      "text/plain": [
       "generics.beaker.RandomUtils"
      ]
     },
     "execution_count": 40,
     "metadata": {},
     "output_type": "execute_result"
    }
   ],
   "source": [
    "package generics.beaker;\n",
    "\n",
    "import java.util.Random;\n",
    "\n",
    "\n",
    "public class RandomUtils {\n",
    "  private static Random r = new Random();\n",
    "\n",
    "  /** Return a random int from 0 to range-1. So, randomInt(4)\n",
    "   *  returns any of 0, 1, 2, or 3.\n",
    "   */\n",
    "  public static int randomInt(int range) {\n",
    "    return(r.nextInt(range));\n",
    "  }\n",
    "\n",
    "  /** Return a random index of an array. */\n",
    "  public static int randomIndex(Object[] array) {\n",
    "    return(randomInt(array.length));\n",
    "  }\n",
    "\n",
    "  /** Return a random element from an array.\n",
    "   *  Uses generics, so no typecast is required\n",
    "   *  for the return value.\n",
    "   */\n",
    "  public static <T> T randomElement(T[] array) {\n",
    "    return(array[randomIndex(array)]);\n",
    "  }\n",
    "  /* <T>\n",
    "    • In rest of method, T refers to a type.\n",
    "    • Java will figure out what type T is by looking at the parameters of the method call.\n",
    "    • Even if there is an existing class actually called T, it is irrelevant here.\n",
    "  */\n",
    "  /* T and T[]\n",
    "    This says that the method takes in an array of T’s and returns a T.\n",
    "    For example, if you pass in an array of Strings, you get out a String;\n",
    "    if you pass in an array of Employees, you get out an Employee.\n",
    "    No typecasts required in any of the cases.\n",
    "  */\n",
    "}\n"
   ]
  },
  {
   "cell_type": "code",
   "execution_count": 41,
   "metadata": {},
   "outputs": [
    {
     "name": "stdout",
     "output_type": "stream",
     "text": [
      "one\n",
      "John\n",
      "3\n"
     ]
    },
    {
     "data": {
      "text/plain": [
       "null"
      ]
     },
     "execution_count": 41,
     "metadata": {},
     "output_type": "execute_result"
    }
   ],
   "source": [
    "package generics.beaker;\n",
    "\n",
    "import java.util.Random;\n",
    "import java.util.*;\n",
    "\n",
    "RandomUtils r = new RandomUtils();\n",
    "String[] arr = new String[3]; \n",
    "arr[0] = \"one\";\n",
    "arr[1] = \"two\";\n",
    "arr[2] = \"three\";\n",
    "System.out.println( r.randomElement(arr) );\n",
    "String[] names = { \"Joe\", \"John\", \"Jane\" };\n",
    "String name = r.randomElement(names);\n",
    "System.out.println(name);\n",
    "Integer[] nums = { 1, 2, 3, 4 };    \n",
    "int num = r.randomElement(nums);\n",
    "System.out.println(num);"
   ]
  },
  {
   "cell_type": "code",
   "execution_count": 42,
   "metadata": {},
   "outputs": [
    {
     "data": {
      "text/plain": [
       "generics.beaker.Cprint"
      ]
     },
     "execution_count": 42,
     "metadata": {},
     "output_type": "execute_result"
    }
   ],
   "source": [
    "package generics.beaker;\n",
    "\n",
    "import java.util.*;\n",
    "\n",
    "public class Cprint {\n",
    "    \n",
    "    public static <T> T mPrint(List<T> lArg ){\n",
    "        for(T item: lArg){\n",
    "            System.out.println(item);\n",
    "        }\n",
    "        //return(lArg.get(0));    <-- wierd, seems like it should have to return something\n",
    "    }\n",
    "    static <T> void mDisplay(List<T> lArg){\n",
    "        for(T item: lArg){\n",
    "            System.out.println(item);\n",
    "        }\n",
    "    }\n",
    "}"
   ]
  },
  {
   "cell_type": "code",
   "execution_count": 43,
   "metadata": {},
   "outputs": [
    {
     "ename": "cannot find symbol",
     "evalue": "cannot find symbol",
     "output_type": "error",
     "traceback": [
      "\u001b[1;31mcannot find symbol\u001b[0;0m",
      "\u001b[1;31m  symbol:   class Cprint\u001b[0;0m",
      "\u001b[1;31m  location: class generics.beaker.BeakerWrapperClass1261714175Id08595fc76c1a46ebbef0e11cd0c086e8\u001b[0;0m",
      "\u001b[1;31m Cprint inst = new Cprint()\u001b[0;0m",
      "\u001b[1;31m ^     ^                     \u001b[0;0m",
      "\u001b[1;31m\u001b[0;0m",
      "\u001b[1;31mcannot find symbol\u001b[0;0m",
      "\u001b[1;31m  symbol:   class Cprint\u001b[0;0m",
      "\u001b[1;31m  location: class generics.beaker.BeakerWrapperClass1261714175Id08595fc76c1a46ebbef0e11cd0c086e8\u001b[0;0m",
      "\u001b[1;31m Cprint inst = new Cprint()\u001b[0;0m",
      "\u001b[1;31m                   ^     ^   \u001b[0;0m"
     ]
    }
   ],
   "source": [
    "// WTF???\n",
    "package generics.beaker;\n",
    "\n",
    "import java.util.*;\n",
    "\n",
    "Cprint inst = new Cprint();\n",
    "List<String> lArg = new ArrayList<>(); \n",
    "lArg.add(\"one\");\n",
    "lArg.add(\"two\");\n",
    "lArg.add(\"three\");\n",
    "inst.mPrint(lArg);\n",
    "System.out.println(\"\");\n",
    "inst.mDisplay(lArg);"
   ]
  },
  {
   "cell_type": "code",
   "execution_count": 44,
   "metadata": {},
   "outputs": [
    {
     "data": {
      "text/plain": [
       "com.twosigma.beaker.javash.bkr9f024aeb.Test"
      ]
     },
     "execution_count": 44,
     "metadata": {},
     "output_type": "execute_result"
    }
   ],
   "source": [
    "// Class\n",
    "// We use < > to specify Parameter type\n",
    "class Test<T>{\n",
    "    // An object of type T is declared\n",
    "    T obj;\n",
    "    Test(T obj) {  this.obj = obj;  }  // constructor\n",
    "    public T getObject()  { return this.obj; }\n",
    "}\n",
    "  \n",
    "// Driver class to test above\n",
    "class Main{\n",
    "    public static void main (String[] args)\n",
    "    {\n",
    "        // instance of Integer type\n",
    "        Test <Integer> iObj = new Test<Integer>(15);\n",
    "        System.out.println(iObj.getObject());\n",
    "        // instance of String type\n",
    "        Test <String> sObj = new Test<String>(\"GeeksForGeeks\");\n",
    "        System.out.println(sObj.getObject());\n",
    "    }\n",
    "}"
   ]
  },
  {
   "cell_type": "code",
   "execution_count": null,
   "metadata": {},
   "outputs": [],
   "source": [
    "// yeah, I could spend some time one this"
   ]
  },
  {
   "cell_type": "markdown",
   "metadata": {},
   "source": [
    "### Methods"
   ]
  },
  {
   "cell_type": "markdown",
   "metadata": {},
   "source": [
    "__Methods (pass by value)__\n",
    "\n",
    "* [ref](http://www.javadude.com/articles/passbyvalue.htm)\n",
    "* [discussion](https://stackoverflow.com/questions/40480/is-java-pass-by-reference-or-pass-by-value)\n",
    "\n",
    "\n",
    "_Pass-by-value_\n",
    "    The actual parameter (or argument expression) is fully evaluated and the resulting value is copied into a location being used to hold the formal parameter's value during method/function execution. That location is typically a chunk of memory on the runtime stack for the application (which is how Java handles it), but other languages could choose parameter storage differently.\n",
    "\n",
    "_Pass-by-reference_\n",
    "    The formal parameter merely acts as an alias for the actual parameter. Anytime the method/function uses the formal parameter (for reading or writing), it is actually using the actual parameter. \n",
    "\n",
    "\n"
   ]
  },
  {
   "cell_type": "markdown",
   "metadata": {},
   "source": [
    "### Autoboxing"
   ]
  },
  {
   "cell_type": "code",
   "execution_count": 45,
   "metadata": {},
   "outputs": [
    {
     "data": {
      "text/plain": [
       "com.twosigma.beaker.javash.bkr9f024aeb.Autoboxing"
      ]
     },
     "execution_count": 45,
     "metadata": {},
     "output_type": "execute_result"
    }
   ],
   "source": [
    "import java.util.*;\n",
    "\n",
    "public class Autoboxing {\n",
    "    public static void main(String[] args) {\n",
    "        List<Integer> nums = new ArrayList<>();\n",
    "        int[] values = { 2, 4, 6 };\n",
    "        for(int value: values) {\n",
    "            nums.add(value);\n",
    "        }\n",
    "        System.out.println(\"List: \" + nums);\n",
    "        int secondNum = nums.get(1);\n",
    "        System.out.println(\"Second number: \" + secondNum);\n",
    "    }\n",
    "}"
   ]
  },
  {
   "cell_type": "code",
   "execution_count": 46,
   "metadata": {},
   "outputs": [
    {
     "data": {
      "text/plain": [
       "com.twosigma.beaker.javash.bkr9f024aeb.GFG"
      ]
     },
     "execution_count": 46,
     "metadata": {},
     "output_type": "execute_result"
    }
   ],
   "source": [
    "/* Java program to illustrate autoboxing */\n",
    "import java.io.*;\n",
    "import java.util.*;\n",
    " \n",
    "class GFG\n",
    "{\n",
    "    public static void main (String[] args)\n",
    "    {\n",
    "        /* Here we are creating a list\n",
    "          of elements of Integer type.\n",
    "          adding the int primitives type values */\n",
    "        List<Integer> list = new ArrayList<Integer>();\n",
    "        for (int i = 0; i < 10; i++)\n",
    "            list.add(i);\n",
    "    }\n",
    "}"
   ]
  },
  {
   "cell_type": "code",
   "execution_count": 47,
   "metadata": {},
   "outputs": [
    {
     "data": {
      "text/plain": [
       "com.twosigma.beaker.javash.bkr9f024aeb.GFG"
      ]
     },
     "execution_count": 47,
     "metadata": {},
     "output_type": "execute_result"
    }
   ],
   "source": [
    "/* Java program to illustrate autoboxing */\n",
    "import java.io.*;\n",
    "import java.util.*;\n",
    " \n",
    "class GFG\n",
    "{\n",
    "    public static void main (String[] args)\n",
    "    {\n",
    "        /* Here we are creating a list of elements\n",
    "          of Integer type. Adding the int primitives\n",
    "          type values by converting them into Integer\n",
    "          wrapper Object*/\n",
    "        List<Integer> list = new ArrayList<Integer>();\n",
    "        for (int i = 0; i < 10; i++)\n",
    "            list.add(Integer.valueOf(i));\n",
    " \n",
    "    }\n",
    "}"
   ]
  },
  {
   "cell_type": "code",
   "execution_count": 48,
   "metadata": {},
   "outputs": [
    {
     "data": {
      "text/plain": [
       "com.twosigma.beaker.javash.bkr9f024aeb.GFG"
      ]
     },
     "execution_count": 48,
     "metadata": {},
     "output_type": "execute_result"
    }
   ],
   "source": [
    "/*Another example of auto and unboxing is to find sum of odd numbers in a list. \n",
    "Important point in the program is that the operators remainder (%) and unary \n",
    "plus (+=) operators do not apply to Integer objects. But still code compiles\n",
    "successfully because the unboxing of Integer Object to primitive int value is\n",
    "taking place by invoking intValue() method at runtime.\n",
    "*/\n",
    "// Java program to illustrate  find sum\n",
    "// of odd numbers using autobxing and unboxing\n",
    "import java.io.*;\n",
    "import java.util.*;\n",
    " \n",
    "class GFG\n",
    "{\n",
    "    public static int sumOfOddNumber(List<Integer> list)\n",
    "    {\n",
    "        int sum = 0;\n",
    "        for (Integer i : list)\n",
    "        {\n",
    "            // unboxing of i automatically\n",
    "            if(i % 2 != 0)\n",
    "                sum += i;\n",
    "            /* unboxing of i is done automatically\n",
    "               using intvalue implicitly\n",
    "            if(i.intValue() % 2 != 0)\n",
    "                sum += i.intValue();*/\n",
    "        }\n",
    "        return sum;\n",
    "    }\n",
    " \n",
    "    public static void main (String[] args)\n",
    "    {\n",
    "        /* Here we are creating a list of elements\n",
    "           of Integer type and adding the int primitives\n",
    "           type values to the list*/\n",
    "        List<Integer> list = new ArrayList<Integer>();\n",
    "        for (int i = 0; i < 10; i++)\n",
    "            list.add(i);\n",
    " \n",
    "        // getting sum of all odd no. in the list.\n",
    "        int sumOdd = sumOfOddNumber(list);\n",
    "        System.out.println(\"Sum of odd numbers = \" + sumOdd);\n",
    "    }\n",
    "}"
   ]
  },
  {
   "cell_type": "markdown",
   "metadata": {},
   "source": [
    "### Collections"
   ]
  },
  {
   "cell_type": "code",
   "execution_count": 36,
   "metadata": {},
   "outputs": [
    {
     "name": "stdout",
     "output_type": "stream",
     "text": [
      "[first new item, new item, another item, last item]\n",
      "new item\n"
     ]
    },
    {
     "data": {
      "text/plain": [
       "null"
      ]
     },
     "execution_count": 36,
     "metadata": {},
     "output_type": "execute_result"
    }
   ],
   "source": [
    "package test.beaker;\n",
    "/*\n",
    "You say List (the interface type) instead of ArrayList (the concrete class) here so that you do not \n",
    "accidentally use one of the few methods that is specific to ArrayList. That way, if you decide to \n",
    "change to LinkedList for performance reasons, all the rest of your code stays the same, and the \n",
    "output is unchanged. And of course if you make a method that accepts a list, it is doubly \n",
    "important that you declare the parameter as List<Blah>, not ArrayList<Blah>, so that the same \n",
    "method can also be used for another type of List.\n",
    "*/\n",
    "import java.util.*;\n",
    "\n",
    "List<String> myArr = new ArrayList<>();\n",
    "List<String> myLink = new LinkedList<>();\n",
    "\n",
    "myArr.add(\"new item\");\n",
    "myArr.add(0,\"first new item\");\n",
    "myArr.add(\"another item\");\n",
    "myArr.add(\"last item\");\n",
    "/*\n",
    " builtin toString method that shows the \n",
    "List values separated by commas. \n",
    "*/\n",
    "System.out.println(myArr);\n",
    "System.out.println(myArr.get(1));"
   ]
  },
  {
   "cell_type": "code",
   "execution_count": 37,
   "metadata": {
    "scrolled": true
   },
   "outputs": [
    {
     "name": "stdout",
     "output_type": "stream",
     "text": [
      "first new item\n",
      "new item\n",
      "another item\n",
      "last item\n",
      "\n",
      "\n",
      "first new item\n",
      "new item\n",
      "another item\n",
      "last item\n",
      "\n",
      "\n",
      "[first new item, new item, another item]\n"
     ]
    },
    {
     "data": {
      "text/plain": [
       "null"
      ]
     },
     "execution_count": 37,
     "metadata": {},
     "output_type": "execute_result"
    }
   ],
   "source": [
    "package test.beaker;\n",
    "\n",
    "import java.util.*;\n",
    "import java.util.List;\n",
    "import java.util.stream.Collectors;\n",
    "\n",
    "List<String> myArr = new ArrayList<>();\n",
    "myArr.add(\"new item\");\n",
    "myArr.add(0,\"first new item\");\n",
    "myArr.add(\"another item\");\n",
    "myArr.add(\"last item\");\n",
    "\n",
    "\n",
    "for(String item: myArr){\n",
    "    System.out.println(item);\n",
    "}\n",
    "System.out.println(\"\\n\");\n",
    "myArr.forEach(System.out::println);\n",
    "\n",
    "System.out.println(\"\\n\");\n",
    "List<String> result = myArr.stream()                        // convert list to stream\n",
    "                .filter(line -> !\"last item\".equals(line))  // we dont like mkyong\n",
    "                .collect(Collectors.toList());              // collect the output and convert streams to a List\n",
    "System.out.println(result);"
   ]
  },
  {
   "cell_type": "markdown",
   "metadata": {},
   "source": [
    "__List methods__"
   ]
  },
  {
   "cell_type": "code",
   "execution_count": 49,
   "metadata": {},
   "outputs": [
    {
     "name": "stdout",
     "output_type": "stream",
     "text": [
      "List: [hi, hello, hola]\n",
      "Num words: 3\n",
      "2nd word: hello\n",
      "Contains 'hi'? true\n",
      "Contains 'bye'? false\n",
      "List: [hi, hola]\n",
      "Num words: 2\n"
     ]
    },
    {
     "data": {
      "text/plain": [
       "null"
      ]
     },
     "execution_count": 49,
     "metadata": {},
     "output_type": "execute_result"
    }
   ],
   "source": [
    "import java.util.*;\n",
    "\n",
    "List<String> words = new ArrayList<>();\n",
    "// List<String> words = new LinkedList<>();\n",
    "// List<String> wordList1 = Arrays.asList(\"word1\", \"word2\", ...);      <<< asList() not used in production\n",
    "words.add(\"hi\");\n",
    "words.add(\"hello\");\n",
    "words.add(\"hola\");\n",
    "System.out.println(\"List: \" + words);\n",
    "System.out.println(\"Num words: \" + words.size());\n",
    "String secondWord = words.get(1);\n",
    "System.out.println(\"2nd word: \" + secondWord);\n",
    "System.out.println(\"Contains 'hi'? \" + words.contains(\"hi\"));\n",
    "System.out.println(\"Contains 'bye'? \" + words.contains(\"bye\"));\n",
    "words.remove(\"hello\");\n",
    "System.out.println(\"List: \" + words);\n",
    "System.out.println(\"Num words: \" + words.size());"
   ]
  },
  {
   "cell_type": "code",
   "execution_count": 50,
   "metadata": {},
   "outputs": [
    {
     "name": "stdout",
     "output_type": "stream",
     "text": [
      "List: [hi, hello, hola]\n",
      "List: [hi, hola, hello]\n",
      "List: [HI!, HOLA!, HELLO!]\n",
      "List: [HI!, HOLA!]\n",
      "Word: HI!\n",
      "Word: HOLA!\n",
      "Word: HI!\n",
      "Word: HOLA!\n"
     ]
    },
    {
     "data": {
      "text/plain": [
       "null"
      ]
     },
     "execution_count": 50,
     "metadata": {},
     "output_type": "execute_result"
    }
   ],
   "source": [
    "// lambda\n",
    "import java.util.*;\n",
    "\n",
    "List<String> words = new ArrayList<>(); \n",
    "// or,  = new LinkedList<>();\n",
    "words.add(\"hi\");\n",
    "words.add(\"hello\");\n",
    "words.add(\"hola\");\n",
    "System.out.println(\"List: \" + words);\n",
    "words.sort((word1,word2) -> word1.length()-word2.length());\n",
    "System.out.println(\"List: \" + words);\n",
    "words.replaceAll(word -> word.toUpperCase() + \"!\");\n",
    "System.out.println(\"List: \" + words);\n",
    "words.removeIf(word -> word.contains(\"E\"));\n",
    "System.out.println(\"List: \" + words);\n",
    "words.forEach(word -> System.out.println(\"Word: \" + word));\n",
    "String[] wordArray = words.toArray(new String[0]);\n",
    "for(String word: wordArray) {\n",
    "    System.out.println(\"Word: \" + word);\n",
    "}"
   ]
  },
  {
   "cell_type": "code",
   "execution_count": 51,
   "metadata": {},
   "outputs": [
    {
     "name": "stdout",
     "output_type": "stream",
     "text": [
      "1.0\n"
     ]
    },
    {
     "data": {
      "text/plain": [
       "null"
      ]
     },
     "execution_count": 51,
     "metadata": {},
     "output_type": "execute_result"
    }
   ],
   "source": [
    "// maps / hashmaps (lookup tables or associative arrays)\n",
    "import java.util.*;\n",
    "\n",
    "Map<String, Double> map = new HashMap<>();\n",
    "map.put(\"one\",1.0);\n",
    "Double result = map.get(\"one\");\n",
    "System.out.println(result);\n",
    "\n"
   ]
  },
  {
   "cell_type": "markdown",
   "metadata": {},
   "source": [
    "hashmap performance\n",
    "\n",
    "* Inserting a value associated with a key\n",
    "    - Independent of the number of entries in the table, i.e., O(1)  \n",
    "* Finding the value associated with a key\n",
    "    - Independent of the number of entries in the table, i.e., O(1)\n",
    "* Finding the key associated with a value\n",
    "    - Requires you to look at every entry, i.e., O(N)"
   ]
  },
  {
   "cell_type": "code",
   "execution_count": 54,
   "metadata": {},
   "outputs": [
    {
     "data": {
      "text/plain": [
       "map.beaker.StateMap"
      ]
     },
     "execution_count": 54,
     "metadata": {},
     "output_type": "execute_result"
    }
   ],
   "source": [
    "package map.beaker;\n",
    "\n",
    "import java.util.*;\n",
    "\n",
    "public class StateMap {\n",
    "    \n",
    "    private static String[][] stateArray = {{\"AK\",\"Alaska\"},{\"AL\",\"Arizona\"},{\"AR\",\"Arkansas\"}};\n",
    "    \n",
    "    private static Map<String, String> stateMap = new HashMap<>();\n",
    "    \n",
    "    static{\n",
    "        for(String[] state: stateArray ){\n",
    "            stateMap.put(state[0],state[1]);\n",
    "        }\n",
    "    }\n",
    "    \n",
    "    public static String statename(String stateCode){\n",
    "        return( stateMap.getOrDefault(stateCode, \"[None]\") );\n",
    "    }\n",
    "}"
   ]
  },
  {
   "cell_type": "code",
   "execution_count": 55,
   "metadata": {},
   "outputs": [
    {
     "name": "stdout",
     "output_type": "stream",
     "text": [
      "Alaska\n",
      "[one, two, three]\n",
      "[1, 2, 3]\n",
      "3\n",
      "(one,1)\n",
      "(two,2)\n",
      "(three,3)\n"
     ]
    },
    {
     "data": {
      "text/plain": [
       "null"
      ]
     },
     "execution_count": 55,
     "metadata": {},
     "output_type": "execute_result"
    }
   ],
   "source": [
    "package map.beaker;\n",
    "\n",
    "import java.util.*;\n",
    "\n",
    "StateMap x = new StateMap();\n",
    "String result = x.statename(\"AK\");\n",
    "System.out.println(result);\n",
    "\n",
    "// new hashmap\n",
    "Map<String, Integer> stateMap = new HashMap<>();\n",
    "stateMap.put(\"one\",1);\n",
    "stateMap.put(\"two\",2);\n",
    "stateMap.put(\"three\",3);\n",
    "\n",
    "System.out.println(stateMap.keySet());\n",
    "System.out.println(stateMap.values());\n",
    "System.out.println(stateMap.size());\n",
    "stateMap.forEach((k,v) -> System.out.printf(\"(%s,%s)%n\", k, v));\n",
    "//stateMap.computeIfAbsent('four', f());\n",
    "//map.merge(key, message, String::concat)\n"
   ]
  },
  {
   "cell_type": "code",
   "execution_count": 56,
   "metadata": {},
   "outputs": [
    {
     "name": "stdout",
     "output_type": "stream",
     "text": [
      "true\n",
      "false\n"
     ]
    },
    {
     "data": {
      "text/plain": [
       "null"
      ]
     },
     "execution_count": 56,
     "metadata": {},
     "output_type": "execute_result"
    }
   ],
   "source": [
    "// set\n",
    "// Similar to a Map where the values corresponding to each key are just boolean true\n",
    "import java.util.*;\n",
    "\n",
    "Set<String> set = new HashSet<>();\n",
    "set.add(\"one\");\n",
    "set.add(\"two\");\n",
    "set.add(\"two\");\n",
    "\n",
    "System.out.println( set.contains(\"two\") );\n",
    "System.out.println( set.contains(\"three\") );"
   ]
  },
  {
   "cell_type": "markdown",
   "metadata": {},
   "source": [
    "// printf\n",
    "\n",
    "`System.out.printf(\"%s, %s, and %s.%n\", v1, v2, v3);`"
   ]
  },
  {
   "cell_type": "code",
   "execution_count": 58,
   "metadata": {},
   "outputs": [
    {
     "data": {
      "text/plain": [
       "com.twosigma.beaker.javash.bkr9f024aeb.MathUtils"
      ]
     },
     "execution_count": 58,
     "metadata": {},
     "output_type": "execute_result"
    }
   ],
   "source": [
    "// variable arguments (Type... argument)\n",
    "public class MathUtils {\n",
    "    public static int min(int... numbers){\n",
    "        int minimum = Integer.MAX_VALUE;\n",
    "        for(int number: numbers) {\n",
    "            if (number < minimum) {\n",
    "                minimum = number;\n",
    "            }\n",
    "        }\n",
    "        return(minimum);\n",
    "    }\n",
    "    public static void main(String[] args) {\n",
    "        System.out.printf(\"Min of 2 nums: %d.%n\", min(2,1));\n",
    "        System.out.printf(\"Min of 7 nums: %d.%n\", min(2,4,6,8,1,2,3));\n",
    "    }\n",
    "}"
   ]
  },
  {
   "cell_type": "code",
   "execution_count": null,
   "metadata": {},
   "outputs": [],
   "source": [
    "// String - immutable\n",
    "// performance: O(N^2)\n",
    "// i)copied result, ii)allocate a new String object, iii)assign that new object to result\n",
    "public static String padChars1(int n, String orig) {\n",
    "    String result = \"\";\n",
    "    for(int i=0; i<n; i++) {\n",
    "        result = result + orig;\n",
    "    }\n",
    "    return(result);\n",
    "}"
   ]
  },
  {
   "cell_type": "code",
   "execution_count": null,
   "metadata": {},
   "outputs": [],
   "source": [
    "// StringBuilder - mutable\n",
    "// performance: O(N)\n",
    "public static String padChars2(int n, String orig) {\n",
    "    StringBuilder result = new StringBuilder(\"\");\n",
    "    for(int i=0; i<n; i++) {\n",
    "        result = result.append(orig);\n",
    "    }\n",
    "    return(result.toString());\n",
    "}"
   ]
  },
  {
   "cell_type": "markdown",
   "metadata": {},
   "source": [
    "## Object Oriented Programming\n",
    "\n",
    "### Thinking like a developer\n",
    "\n",
    "OOP for modeling the world\n",
    "\n",
    "Difficulties when working in a team\n",
    "\n",
    "Getters and setters"
   ]
  },
  {
   "cell_type": "markdown",
   "metadata": {},
   "source": [
    "### Access modifiers"
   ]
  },
  {
   "cell_type": "markdown",
   "metadata": {},
   "source": [
    "* [access modifiers](https://www.geeksforgeeks.org/access-modifiers-java/)\n",
    "* [general modifiers](https://dzone.com/articles/all-about-java-modifier)"
   ]
  },
  {
   "cell_type": "markdown",
   "metadata": {},
   "source": [
    "Once you learn about private, your strategy is this:\n",
    "\n",
    "* If you want code that uses your class to access the method, make it public. \n",
    "* If your method is called only by other met hods in the same class,  make it private. \n",
    "* Make it private unless you have a specific reason to do otherwise."
   ]
  },
  {
   "cell_type": "markdown",
   "metadata": {},
   "source": [
    "![access modifiers](./images/java-access_modifiers.png)"
   ]
  },
  {
   "cell_type": "markdown",
   "metadata": {},
   "source": [
    "__Default__"
   ]
  },
  {
   "cell_type": "code",
   "execution_count": 21,
   "metadata": {},
   "outputs": [
    {
     "data": {
      "text/plain": [
       "p1.beaker.Geek"
      ]
     },
     "execution_count": 21,
     "metadata": {},
     "output_type": "execute_result"
    }
   ],
   "source": [
    "//Java program to illustrate default modifier\n",
    "package p1.beaker;\n",
    " \n",
    "//Class Geeks is having Default access modifier\n",
    "class Geek\n",
    "{\n",
    "    void display()\n",
    "       {\n",
    "           System.out.println(\"Hello World!\");\n",
    "       }\n",
    "}"
   ]
  },
  {
   "cell_type": "code",
   "execution_count": 22,
   "metadata": {},
   "outputs": [
    {
     "ename": "ERROR",
     "evalue": " java.lang.IllegalStateException",
     "output_type": "error",
     "traceback": [
      "\u001b[1;31mERROR: java.lang.IllegalStateException: package p1 does not exist\u001b[0;0m",
      "\u001b[1;31m import p1.*\u001b[0;0m",
      "\u001b[1;31m ^           \u001b[0;0m",
      "\u001b[1;31m\u001b[0;0m",
      "\u001b[1;31mcannot find symbol\u001b[0;0m",
      "\u001b[1;31m  symbol:   class Geeks\u001b[0;0m",
      "\u001b[1;31m  location: class p2.beaker.GeekNew\u001b[0;0m",
      "\u001b[1;31m Geeks obj = new Geek()\u001b[0;0m",
      "\u001b[1;31m ^    ^                  \u001b[0;0m",
      "\u001b[1;31m\u001b[0;0m",
      "\u001b[1;31mcannot find symbol\u001b[0;0m",
      "\u001b[1;31m  symbol:   class Geek\u001b[0;0m",
      "\u001b[1;31m  location: class p2.beaker.GeekNew\u001b[0;0m",
      "\u001b[1;31m Geeks obj = new Geek()\u001b[0;0m",
      "\u001b[1;31m                 ^   ^   \u001b[0;0m"
     ]
    }
   ],
   "source": [
    "//Java program to illustrate error while \n",
    "//using class from different package with\n",
    "//default modifier\n",
    "package p2.beaker;\n",
    "import p1.*;\n",
    " \n",
    "//This class is having default access modifier\n",
    "class GeekNew\n",
    "{\n",
    "    public static void main(String args[])\n",
    "       {  \n",
    "          //accessing class Geek from package p1\n",
    "          Geeks obj = new Geek();\n",
    "          obj.display();\n",
    "       }\n",
    "}"
   ]
  },
  {
   "cell_type": "markdown",
   "metadata": {},
   "source": [
    "__Private__"
   ]
  },
  {
   "cell_type": "code",
   "execution_count": 23,
   "metadata": {},
   "outputs": [
    {
     "ename": "ERROR",
     "evalue": " java.lang.IllegalStateException",
     "output_type": "error",
     "traceback": [
      "\u001b[1;31mERROR: java.lang.IllegalStateException: display() has private access in p1.beaker.A\u001b[0;0m",
      "\u001b[1;31m obj.display()\u001b[0;0m",
      "\u001b[1;31m ^          ^   \u001b[0;0m"
     ]
    }
   ],
   "source": [
    "//Java program to illustrate error while \n",
    "//using class from different package with\n",
    "//private modifier\n",
    "package p1.beaker;\n",
    " \n",
    "class A\n",
    "{\n",
    "   private void display()\n",
    "    {\n",
    "        System.out.println(\"GeeksforGeeks\");\n",
    "    }\n",
    "}\n",
    " \n",
    "class B\n",
    "{\n",
    "   public static void main(String args[])\n",
    "      {\n",
    "          A obj = new A();\n",
    "          //trying to access private method of another class\n",
    "          obj.display();\n",
    "      }\n",
    "}"
   ]
  },
  {
   "cell_type": "markdown",
   "metadata": {},
   "source": [
    "__Protected__"
   ]
  },
  {
   "cell_type": "code",
   "execution_count": 24,
   "metadata": {},
   "outputs": [
    {
     "data": {
      "text/plain": [
       "p1.beaker.A"
      ]
     },
     "execution_count": 24,
     "metadata": {},
     "output_type": "execute_result"
    }
   ],
   "source": [
    "//Java program to illustrate\n",
    "//protected modifier\n",
    "package p1.beaker;\n",
    " \n",
    "//Class A\n",
    "public class A\n",
    "{\n",
    "   protected void display()\n",
    "    {\n",
    "        System.out.println(\"GeeksforGeeks\");\n",
    "    }\n",
    "}"
   ]
  },
  {
   "cell_type": "code",
   "execution_count": 25,
   "metadata": {},
   "outputs": [
    {
     "ename": "ERROR",
     "evalue": " java.lang.IllegalStateException",
     "output_type": "error",
     "traceback": [
      "\u001b[1;31mERROR: java.lang.IllegalStateException: package p1 does not exist\u001b[0;0m",
      "\u001b[1;31m import p1.*\u001b[0;0m",
      "\u001b[1;31m ^           \u001b[0;0m",
      "\u001b[1;31m\u001b[0;0m",
      "\u001b[1;31mcannot find symbol\u001b[0;0m",
      "\u001b[1;31m  symbol: class A\u001b[0;0m",
      "\u001b[1;31m class B extends A\u001b[0;0m",
      "\u001b[1;31m                 ^^ \u001b[0;0m",
      "\u001b[1;31m\u001b[0;0m",
      "\u001b[1;31mcannot find symbol\u001b[0;0m",
      "\u001b[1;31m  symbol:   method display()\u001b[0;0m",
      "\u001b[1;31m  location: variable obj of type p2.beaker.B\u001b[0;0m",
      "\u001b[1;31m obj.display()\u001b[0;0m",
      "\u001b[1;31m ^          ^   \u001b[0;0m"
     ]
    }
   ],
   "source": [
    "//Java program to illustrate\n",
    "//protected modifier\n",
    "package p2.beaker;\n",
    "import p1.*; //importing all classes in package p1\n",
    " \n",
    "//Class B is subclass of A\n",
    "class B extends A\n",
    "{\n",
    "   public static void main(String args[])\n",
    "   {  \n",
    "       B obj = new B();  \n",
    "       obj.display();  \n",
    "   }  \n",
    "     \n",
    "}"
   ]
  },
  {
   "cell_type": "markdown",
   "metadata": {},
   "source": [
    "__Public__"
   ]
  },
  {
   "cell_type": "code",
   "execution_count": 26,
   "metadata": {},
   "outputs": [
    {
     "data": {
      "text/plain": [
       "p1.beaker.A"
      ]
     },
     "execution_count": 26,
     "metadata": {},
     "output_type": "execute_result"
    }
   ],
   "source": [
    "//Java program to illustrate\n",
    "//public modifier\n",
    "package p1.beaker;\n",
    "public class A\n",
    "{\n",
    "   public void display()\n",
    "      {\n",
    "          System.out.println(\"GeeksforGeeks\");\n",
    "      }\n",
    "}"
   ]
  },
  {
   "cell_type": "code",
   "execution_count": 27,
   "metadata": {},
   "outputs": [
    {
     "data": {
      "text/plain": [
       "p1.beaker.B"
      ]
     },
     "execution_count": 27,
     "metadata": {},
     "output_type": "execute_result"
    }
   ],
   "source": [
    "package p1.beaker;\n",
    "// should work with the below\n",
    "//package p2.beaker;\n",
    "//import p1.beaker;\n",
    "class B\n",
    "{\n",
    "    public static void main(String args[])\n",
    "      {\n",
    "          A obj = new A();\n",
    "          obj.display();\n",
    "      }\n",
    "}"
   ]
  },
  {
   "cell_type": "code",
   "execution_count": 28,
   "metadata": {},
   "outputs": [
    {
     "data": {
      "text/plain": [
       "com.twosigma.beaker.javash.bkr9f024aeb.Blah"
      ]
     },
     "execution_count": 28,
     "metadata": {},
     "output_type": "execute_result"
    }
   ],
   "source": [
    "// Static Blocks\n",
    "// – Code that runs when class is loaded, not when instance is built (as with constructor).  Used to initialize static variables that require multiple steps to build their values.\n",
    "import java.util.*;\n",
    "\n",
    "public class Blah{\n",
    "    private static Map<String,String> map = new HashMap<>();\n",
    "    static {\n",
    "        map.put(\"key1\", \"value1\");\n",
    "        map.put(\"key2\", \"value2\");\n",
    "    }\n",
    "}"
   ]
  },
  {
   "cell_type": "markdown",
   "metadata": {},
   "source": [
    "### Abstract and Interface\n",
    "\n",
    "* Interfaces are more flexible, because a class can implement multiple interfaces.  Since Java does not have multiple inheritance, using abstract classes prevents your users from using any other class hierarchy. In general, __prefer interfaces when there are no default implementations or state.__ Java collections offer good examples of this (Map, Set, etc.).\n",
    "* Abstract classes have the advantage of allowing better forward compatibility.  Once clients use an interface, you cannot change it; if they use an abstract class, you can still add behavior without breaking existing code. __If compatibility is a concern, consider using abstract classes.__\n",
    "* Even if you do have default implementations or internal state, consider offering an interface and an abstract implementation of it. This will assist clients, but still allow them greater freedom if desired"
   ]
  },
  {
   "cell_type": "markdown",
   "metadata": {},
   "source": [
    "__Interfaces__\n",
    "\n",
    "* Enforces behavior - Like abstract classes, guarantees classes have certain methods\n",
    "* More flexibility that abstract classes – Classes can implement multiple interfaces\n",
    "* You cannot directly extend multiple abstract classes\n",
    "* New features in Java 8 interfaces – Interfaces can have static methods\n",
    "* Example shown on upcoming slides in this section – Interfaces can have concrete (default) methods\n",
    "* Example and more details in later section on Java 8 interfaces\n",
    "* Restriction – Even in Java 8, interfaces cannot have mutable (modifiable) instance variables"
   ]
  },
  {
   "cell_type": "code",
   "execution_count": 30,
   "metadata": {},
   "outputs": [
    {
     "data": {
      "text/plain": [
       "shape3.beaker.Shape"
      ]
     },
     "execution_count": 30,
     "metadata": {},
     "output_type": "execute_result"
    }
   ],
   "source": [
    "package shape3.beaker;\n",
    "\n",
    "/** Represents the parent of all shapes that have a getArea method.\n",
    " *  This (using an interface) is the third attempt at a design that will support \n",
    " *  making a static method to sum the areas of a mixed set of shapes. This approach is \n",
    " *  better than the second approach (using an abstract class) in two ways: because classes\n",
    " *  can implement more than one interface, and because with static methods in interfaces\n",
    " *  Java enforces that you call them via InterfaceName.staticMethodName(...), whereas with\n",
    " *  static methods in abstract classes it is possible to call them via instanceName.staticMethodName(...),\n",
    " *  which misleads readers of the code into thinking that they are normal instance methods\n",
    " *  instead of static methods. General rule in Java 8 and later: use interfaces instead of abstract\n",
    " *  classes except for the relatively rare case where you need to define instance variables\n",
    " *  in the abstract class.\n",
    " */\n",
    "\n",
    "public interface Shape {\n",
    "  double getArea(); // All real shapes must define a getArea \n",
    "  \n",
    "  static double sumAreas(Shape[] shapes) {\n",
    "    double sum = 0;\n",
    "    for(Shape s: shapes) {\n",
    "      sum = sum + s.getArea();\n",
    "    }\n",
    "    return(sum);\n",
    "  }\n",
    "}"
   ]
  },
  {
   "cell_type": "code",
   "execution_count": 31,
   "metadata": {},
   "outputs": [
    {
     "data": {
      "text/plain": [
       "shape3.beaker.Circle"
      ]
     },
     "execution_count": 31,
     "metadata": {},
     "output_type": "execute_result"
    }
   ],
   "source": [
    "package shape3.beaker;\n",
    "/** Represents a simplistic Circle. Used to illustrate encapsulation (private instance vars),\n",
    " *  JavaDoc (these comments), and inheritance (extending Shape so that we can make an array\n",
    " *  of mixed shapes and sum their areas).\n",
    " */\n",
    "\n",
    "public class Circle implements Shape {\n",
    "  private double radius;\n",
    "\n",
    "  /** Builds a Circle with the given radius. */\n",
    "  \n",
    "  public Circle(double radius) {\n",
    "    this.radius = radius;\n",
    "  }\n",
    "\n",
    "  /** Returns the current radius. */\n",
    "  \n",
    "  public double getRadius() {\n",
    "    return(radius);\n",
    "  }\n",
    "\n",
    "  /** Sets the current radius. */\n",
    "  \n",
    "  public void setRadius(double radius) {\n",
    "    this.radius = radius;\n",
    "  }\n",
    "\n",
    "  /** Calculates the area from the radius. */\n",
    "  @Override\n",
    "  public double getArea() {\n",
    "    return(Math.PI * radius * radius);\n",
    "  }\n",
    "\n",
    "  /** Indirectly sets the area by working backward to the radius.\n",
    "   *  The resultant area may not be EXACTLY what you set, due to roundoff\n",
    "   *  error when working with doubles.\n",
    "    */\n",
    "  public void setArea(double area) {\n",
    "    radius = Math.sqrt(area / Math.PI);\n",
    "  }\n",
    "}"
   ]
  },
  {
   "cell_type": "code",
   "execution_count": 32,
   "metadata": {},
   "outputs": [
    {
     "data": {
      "text/plain": [
       "shape3.beaker.Rectangle"
      ]
     },
     "execution_count": 32,
     "metadata": {},
     "output_type": "execute_result"
    }
   ],
   "source": [
    "package shape3.beaker;\n",
    "/** Represents a simplistic Rectangle. Also see the Square subclass.\n",
    " *   <p>\n",
    " *  From <a href=\"http://courses.coreservlets.com/Course-Materials/\">the\n",
    " *  coreservlets.com tutorials on JSF 2, PrimeFaces, Ajax, jQuery, GWT, Android,\n",
    " *  Spring, Hibernate, JPA, RESTful Web Services, Hadoop, \n",
    " *  servlets, JSP, and Java 7 and Java 8 programming</a>.\n",
    " */\n",
    "public class Rectangle implements Shape {\n",
    "  private double width, height;\n",
    "\n",
    "  public Rectangle(double width, double height) {\n",
    "    this.width = width;\n",
    "    this.height = height;\n",
    "  }\n",
    "\n",
    "  public double getWidth() {\n",
    "    return(width);\n",
    "  }\n",
    "\n",
    "  public void setWidth(double width) {\n",
    "    this.width = width;\n",
    "  }\n",
    "\n",
    "  public double getHeight() {\n",
    "    return(height);\n",
    "  }\n",
    "\n",
    "  public void setHeight(double height) {\n",
    "    this.height = height;\n",
    "  }\n",
    "\n",
    "  @Override\n",
    "  public double getArea() {\n",
    "    return(width * height);\n",
    "  }\n",
    "}"
   ]
  },
  {
   "cell_type": "code",
   "execution_count": 33,
   "metadata": {},
   "outputs": [
    {
     "data": {
      "text/plain": [
       "shape3.beaker.ShapeTest"
      ]
     },
     "execution_count": 33,
     "metadata": {},
     "output_type": "execute_result"
    }
   ],
   "source": [
    "package shape3.beaker;\n",
    "/** Tests using mixed Shape types and the static sumAreas method.\n",
    " *  <p>\n",
    " *  From <a href=\"http://courses.coreservlets.com/Course-Materials/\">the\n",
    " *  coreservlets.com tutorials on JSF 2, PrimeFaces, Ajax, jQuery, GWT, Android,\n",
    " *  Spring, Hibernate, JPA, RESTful Web Services, Hadoop, \n",
    " *  servlets, JSP, and Java 7 and Java 8 programming</a>.\n",
    " */\n",
    "\n",
    "public class ShapeTest {\n",
    "  public static void main(String[] args) {\n",
    "    Shape[] shapes = { new Circle(10),            // Area is about 314.159\n",
    "                       new Rectangle(5, 10)};          // Area is 50\n",
    "    System.out.println(\"Sum of areas: \" +\n",
    "                       Shape.sumAreas(shapes));   // Area is about 464.159\n",
    "  }\n",
    "}"
   ]
  },
  {
   "cell_type": "code",
   "execution_count": 34,
   "metadata": {},
   "outputs": [
    {
     "data": {
      "text/plain": [
       "enums1.beaker.DayTest"
      ]
     },
     "execution_count": 34,
     "metadata": {},
     "output_type": "execute_result"
    }
   ],
   "source": [
    "package enums1.beaker;\n",
    "\n",
    "\n",
    "public class DayTest {\n",
    "    \n",
    "public enum Day {\n",
    "  SUNDAY, MONDAY, TUESDAY, WEDNESDAY,\n",
    "  THURSDAY, FRIDAY, SATURDAY;\n",
    "}\n",
    "    public static boolean isWeekend(Day d) {\n",
    "        return(d == Day.SATURDAY || d == Day.SUNDAY);\n",
    "    }\n",
    "    public static void main(String[] args) {\n",
    "        System.out.println(\"Monday is weekend? \" + \n",
    "                           isWeekend(Day.MONDAY));\n",
    "        System.out.println(\"Saturday is weekend? \" + \n",
    "                           isWeekend(Day.SATURDAY));\n",
    "    }\n",
    "}"
   ]
  },
  {
   "cell_type": "code",
   "execution_count": 35,
   "metadata": {},
   "outputs": [
    {
     "data": {
      "text/plain": [
       "enums1.beaker.DayTest"
      ]
     },
     "execution_count": 35,
     "metadata": {},
     "output_type": "execute_result"
    }
   ],
   "source": [
    "package enums1.beaker;\n",
    "\n",
    "public class DayTest {\n",
    "    \n",
    "public enum Day {\n",
    "  // typical usage\n",
    "  SUNDAY(\"Sun\"), MONDAY(\"Mon\"), TUESDAY(\"Tues\"), \n",
    "  WEDNESDAY(\"Wed\"), THURSDAY(\"Thurs\"), \n",
    "  FRIDAY(\"Fri\"), SATURDAY(\"Sat\");\n",
    "  \n",
    "  private String abbreviation;\n",
    "  \n",
    "  private Day(String abbreviation) {\n",
    "    this.abbreviation = abbreviation;\n",
    "  }\n",
    "  \n",
    "  public String getAbbreviation() {\n",
    "    return(abbreviation);\n",
    "  }\n",
    "\n",
    "  public boolean isWeekend() {\n",
    "    return(this == SATURDAY || this == SUNDAY);\n",
    "  }\n",
    "  \n",
    "  public boolean isWeekday() {\n",
    "    return(!isWeekend());\n",
    "  }\n",
    "}\n",
    "   \n",
    "  public static void main(String[] args) {\n",
    "    Day day1 = Day.MONDAY;\n",
    "    System.out.println(day1);  // toString is automatic with enums\n",
    "    System.out.println(day1.getAbbreviation() + \n",
    "                       \" is weekend? \" + \n",
    "                       day1.isWeekend());\n",
    "    Day day2 = Day.SATURDAY;\n",
    "    System.out.println(day2.getAbbreviation() + \n",
    "                       \" is weekend? \" + \n",
    "                       day2.isWeekend());\n",
    "  }\n",
    "}"
   ]
  },
  {
   "cell_type": "markdown",
   "metadata": {},
   "source": [
    "### Final keyword"
   ]
  },
  {
   "cell_type": "markdown",
   "metadata": {},
   "source": [
    "![final keyword](images/java-final_keyword.jpg)"
   ]
  },
  {
   "cell_type": "markdown",
   "metadata": {},
   "source": [
    "### Static keyword"
   ]
  },
  {
   "cell_type": "markdown",
   "metadata": {},
   "source": [
    "![static keyword](images/java-static_keyword.png)"
   ]
  },
  {
   "cell_type": "markdown",
   "metadata": {},
   "source": [
    "## Advanced Concepts\n",
    "\n",
    "### Design patterns\n",
    "\n",
    "### Testing \n",
    "\n",
    "[reference](http://www.vogella.com/tutorials/JUnit/article.html)\n",
    "\n",
    "\n",
    "### <?>-driven development"
   ]
  },
  {
   "cell_type": "markdown",
   "metadata": {},
   "source": [
    "## Conclusion"
   ]
  },
  {
   "cell_type": "markdown",
   "metadata": {},
   "source": [
    "## References\n",
    "\n",
    "### Tables\n",
    "\n",
    "### External \n",
    "\n",
    "\n",
    "* [snippet tutorials](http://www.mkyong.com/tutorials/java-8-tutorials/)\n",
    "* [snippet tutorials](https://www.codejava.net/java-core/the-java-language/java-keywords)\n",
    "* [baeldong: in-depth explanations](https://www.baeldung.com/java-tutorial)\n",
    "* [geeks-for-geeks: all questions answered](https://www.geeksforgeeks.org/interfaces-in-java/)\n",
    "\n",
    "* [java collections](http://www.baeldung.com/java-collections)\n",
    "* [collections: maps](https://github.com/winterbe/java8-tutorial#maps)\n",
    "\n",
    "* [google guava](https://github.com/google/guava/wiki)"
   ]
  }
 ],
 "metadata": {
  "kernelspec": {
   "display_name": "Java",
   "language": "java",
   "name": "java"
  },
  "language_info": {
   "codemirror_mode": "text/x-java",
   "file_extension": ".java",
   "mimetype": "",
   "name": "Java",
   "nbconverter_exporter": "",
   "version": "1.8.0_152-release"
  },
  "toc": {
   "base_numbering": 1,
   "nav_menu": {},
   "number_sections": false,
   "sideBar": false,
   "skip_h1_title": false,
   "title_cell": "Table of Contents",
   "title_sidebar": "Contents",
   "toc_cell": false,
   "toc_position": {},
   "toc_section_display": false,
   "toc_window_display": false
  }
 },
 "nbformat": 4,
 "nbformat_minor": 2
}
